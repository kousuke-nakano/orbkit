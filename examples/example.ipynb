{
 "cells": [
  {
   "cell_type": "markdown",
   "metadata": {},
   "source": [
    "# Example of orbkit"
   ]
  },
  {
   "cell_type": "markdown",
   "metadata": {},
   "source": [
    "## TREX-IO documentation: https://trex-coe.github.io/trexio/trex.html"
   ]
  },
  {
   "cell_type": "markdown",
   "metadata": {},
   "source": [
    "## PySCF-forge: https://github.com/pyscf/pyscf-forge\n",
    "TREX-IO is implemented in PySCF-forge. Please install it **from the GitHub repo.** [pip install git+https://github.com/pyscf/pyscf-forge]"
   ]
  },
  {
   "cell_type": "code",
   "execution_count": 1,
   "metadata": {},
   "outputs": [],
   "source": [
    "import os, sys\n",
    "import numpy as np"
   ]
  },
  {
   "cell_type": "markdown",
   "metadata": {},
   "source": [
    "## pyscf-forge"
   ]
  },
  {
   "cell_type": "markdown",
   "metadata": {},
   "source": [
    "```\n",
    "from pyscf import gto, scf\n",
    "from pyscf.tools import trexio\n",
    "\n",
    "filename = 'water_ccecp_ccpvqz.h5'\n",
    "\n",
    "mol = gto.Mole()\n",
    "mol.verbose  = 5\n",
    "mol.atom     = '''\n",
    "               O    5.00000000   7.14707700   7.65097100\n",
    "               H    4.06806600   6.94297500   7.56376100\n",
    "               H    5.38023700   6.89696300   6.80798400\n",
    "               '''\n",
    "mol.basis    = 'ccecp-ccpvqz'\n",
    "mol.unit     = 'A'\n",
    "mol.ecp      = 'ccecp'\n",
    "mol.charge   = 0\n",
    "mol.spin     = 0\n",
    "mol.symmetry = False\n",
    "mol.cart = True\n",
    "mol.output   = 'water.out'\n",
    "mol.build()\n",
    "\n",
    "mf = scf.HF(mol)\n",
    "mf.max_cycle=200\n",
    "mf_scf = mf.kernel()\n",
    "\n",
    "trexio.to_trexio(mf, filename)\n",
    "```"
   ]
  },
  {
   "cell_type": "markdown",
   "metadata": {},
   "source": [
    "## orbkit part"
   ]
  },
  {
   "cell_type": "code",
   "execution_count": 2,
   "metadata": {},
   "outputs": [],
   "source": [
    "from orbkit.trexio_wrapper import read_trexio_file\n",
    "from orbkit.atomic_orbital import compute_AOs_jax\n",
    "from orbkit.molecular_orbital import compute_MOs_jax\n",
    "from orbkit.coulomb_potential import compute_bare_coulomb_potential_ion_ion_jax\n",
    "from orbkit.coulomb_potential import compute_bare_coulomb_potential_el_el_jax\n",
    "from orbkit.coulomb_potential import compute_bare_coulomb_potential_el_ion_jax\n",
    "from orbkit.coulomb_potential import compute_ecp_local_parts_all_pairs_jax\n",
    "from orbkit.coulomb_potential import compute_ecp_non_local_parts_all_pairs_jax\n",
    "from orbkit.coulomb_potential import compute_ecp_non_local_parts_nearest_neighbors_jax"
   ]
  },
  {
   "cell_type": "code",
   "execution_count": 3,
   "metadata": {},
   "outputs": [],
   "source": [
    "structure_data, aos_data, mos_data_up, mos_data_dn, coulomb_potential_data = read_trexio_file('water_ccecp_ccpvqz.h5')"
   ]
  },
  {
   "cell_type": "code",
   "execution_count": 4,
   "metadata": {},
   "outputs": [
    {
     "data": {
      "text/plain": [
       "['**Structure_data',\n",
       " '  PBC flag = False',\n",
       " '  --------------------------------------------------',\n",
       " '  element, label, Z, x, y, z in cartesian (Bohr)',\n",
       " '  --------------------------------------------------',\n",
       " '  O, O, 8.0, -1.32695823, -0.10593853, 0.01878815',\n",
       " '  H, H, 1.0, -1.93166524, 1.60017432, -0.02171052',\n",
       " '  H, H, 1.0, 0.48664428, 0.07959809, 0.00986248',\n",
       " '  --------------------------------------------------']"
      ]
     },
     "execution_count": 4,
     "metadata": {},
     "output_type": "execute_result"
    }
   ],
   "source": [
    "structure_data.get_info()"
   ]
  },
  {
   "cell_type": "code",
   "execution_count": 5,
   "metadata": {},
   "outputs": [
    {
     "data": {
      "text/plain": [
       "['**AOs_sphe_data',\n",
       " '  Number of AOs = 114',\n",
       " '  Number of primitive AOs = 160',\n",
       " '  Angular part is the real spherical (solid) Harmonics.',\n",
       " '  ------------------------------------',\n",
       " '  **basis set for atom index 1: O**',\n",
       " '  ------------------------------------',\n",
       " '  O s',\n",
       " '    54.775216 -0.0012444',\n",
       " '    25.616801 0.0107330',\n",
       " '    11.980245 0.0018889',\n",
       " '    6.992317 -0.1742537',\n",
       " '    2.620277 0.0017622',\n",
       " '    1.225429 0.3161846',\n",
       " '    0.577797 0.4512023',\n",
       " '    0.268022 0.3121534',\n",
       " '    0.125346 0.0511167',\n",
       " '  O s',\n",
       " '    1.351771 1.0000000',\n",
       " '  O s',\n",
       " '    0.843157 1.0000000',\n",
       " '  O s',\n",
       " '    0.224380 1.0000000',\n",
       " '  O p',\n",
       " '    22.217266 0.0104866',\n",
       " '    10.747550 0.0366435',\n",
       " '    5.315785 0.0803674',\n",
       " '    2.660761 0.1627010',\n",
       " '    1.331816 0.2377791',\n",
       " '    0.678626 0.2811422',\n",
       " '    0.333673 0.2643189',\n",
       " '    0.167017 0.1466014',\n",
       " '    0.083598 0.0458145',\n",
       " '  O p',\n",
       " '    1.106737 1.0000000',\n",
       " '  O p',\n",
       " '    0.452364 1.0000000',\n",
       " '  O p',\n",
       " '    0.148562 1.0000000',\n",
       " '  O d',\n",
       " '    4.008867 1.0000000',\n",
       " '  O d',\n",
       " '    1.344331 1.0000000',\n",
       " '  O d',\n",
       " '    0.455711 1.0000000',\n",
       " '  O f',\n",
       " '    2.763115 1.0000000',\n",
       " '  O f',\n",
       " '    0.876289 1.0000000',\n",
       " '  O g',\n",
       " '    1.759081 1.0000000',\n",
       " '  ------------------------------------',\n",
       " '  **basis set for atom index 2: H**',\n",
       " '  ------------------------------------',\n",
       " '  H s',\n",
       " '    23.843185 0.0041149',\n",
       " '    10.212443 0.0104644',\n",
       " '    4.374164 0.0280111',\n",
       " '    1.873529 0.0758862',\n",
       " '    0.802465 0.1821062',\n",
       " '    0.343709 0.3485214',\n",
       " '    0.147217 0.3782313',\n",
       " '    0.063055 0.1164241',\n",
       " '  H s',\n",
       " '    0.081856 1.0000000',\n",
       " '  H s',\n",
       " '    0.233254 1.0000000',\n",
       " '  H s',\n",
       " '    0.664673 1.0000000',\n",
       " '  H p',\n",
       " '    0.284469 1.0000000',\n",
       " '  H p',\n",
       " '    0.847159 1.0000000',\n",
       " '  H p',\n",
       " '    2.522868 1.0000000',\n",
       " '  H d',\n",
       " '    0.665279 1.0000000',\n",
       " '  H d',\n",
       " '    2.048739 1.0000000',\n",
       " '  H f',\n",
       " '    1.421460 1.0000000',\n",
       " '  ------------------------------------',\n",
       " '  **basis set for atom index 3: H**',\n",
       " '  ------------------------------------',\n",
       " '  H s',\n",
       " '    23.843185 0.0041149',\n",
       " '    10.212443 0.0104644',\n",
       " '    4.374164 0.0280111',\n",
       " '    1.873529 0.0758862',\n",
       " '    0.802465 0.1821062',\n",
       " '    0.343709 0.3485214',\n",
       " '    0.147217 0.3782313',\n",
       " '    0.063055 0.1164241',\n",
       " '  H s',\n",
       " '    0.081856 1.0000000',\n",
       " '  H s',\n",
       " '    0.233254 1.0000000',\n",
       " '  H s',\n",
       " '    0.664673 1.0000000',\n",
       " '  H p',\n",
       " '    0.284469 1.0000000',\n",
       " '  H p',\n",
       " '    0.847159 1.0000000',\n",
       " '  H p',\n",
       " '    2.522868 1.0000000',\n",
       " '  H d',\n",
       " '    0.665279 1.0000000',\n",
       " '  H d',\n",
       " '    2.048739 1.0000000',\n",
       " '  H f',\n",
       " '    1.421460 1.0000000']"
      ]
     },
     "execution_count": 5,
     "metadata": {},
     "output_type": "execute_result"
    }
   ],
   "source": [
    "aos_data.get_info()"
   ]
  },
  {
   "cell_type": "code",
   "execution_count": 6,
   "metadata": {},
   "outputs": [
    {
     "data": {
      "text/plain": [
       "['**MOs_data',\n",
       " '  Number of MOs = 4',\n",
       " '  dim. of MOs coeff = (4, 114)',\n",
       " '**AOs_sphe_data',\n",
       " '  Number of AOs = 114',\n",
       " '  Number of primitive AOs = 160',\n",
       " '  Angular part is the real spherical (solid) Harmonics.',\n",
       " '  ------------------------------------',\n",
       " '  **basis set for atom index 1: O**',\n",
       " '  ------------------------------------',\n",
       " '  O s',\n",
       " '    54.775216 -0.0012444',\n",
       " '    25.616801 0.0107330',\n",
       " '    11.980245 0.0018889',\n",
       " '    6.992317 -0.1742537',\n",
       " '    2.620277 0.0017622',\n",
       " '    1.225429 0.3161846',\n",
       " '    0.577797 0.4512023',\n",
       " '    0.268022 0.3121534',\n",
       " '    0.125346 0.0511167',\n",
       " '  O s',\n",
       " '    1.351771 1.0000000',\n",
       " '  O s',\n",
       " '    0.843157 1.0000000',\n",
       " '  O s',\n",
       " '    0.224380 1.0000000',\n",
       " '  O p',\n",
       " '    22.217266 0.0104866',\n",
       " '    10.747550 0.0366435',\n",
       " '    5.315785 0.0803674',\n",
       " '    2.660761 0.1627010',\n",
       " '    1.331816 0.2377791',\n",
       " '    0.678626 0.2811422',\n",
       " '    0.333673 0.2643189',\n",
       " '    0.167017 0.1466014',\n",
       " '    0.083598 0.0458145',\n",
       " '  O p',\n",
       " '    1.106737 1.0000000',\n",
       " '  O p',\n",
       " '    0.452364 1.0000000',\n",
       " '  O p',\n",
       " '    0.148562 1.0000000',\n",
       " '  O d',\n",
       " '    4.008867 1.0000000',\n",
       " '  O d',\n",
       " '    1.344331 1.0000000',\n",
       " '  O d',\n",
       " '    0.455711 1.0000000',\n",
       " '  O f',\n",
       " '    2.763115 1.0000000',\n",
       " '  O f',\n",
       " '    0.876289 1.0000000',\n",
       " '  O g',\n",
       " '    1.759081 1.0000000',\n",
       " '  ------------------------------------',\n",
       " '  **basis set for atom index 2: H**',\n",
       " '  ------------------------------------',\n",
       " '  H s',\n",
       " '    23.843185 0.0041149',\n",
       " '    10.212443 0.0104644',\n",
       " '    4.374164 0.0280111',\n",
       " '    1.873529 0.0758862',\n",
       " '    0.802465 0.1821062',\n",
       " '    0.343709 0.3485214',\n",
       " '    0.147217 0.3782313',\n",
       " '    0.063055 0.1164241',\n",
       " '  H s',\n",
       " '    0.081856 1.0000000',\n",
       " '  H s',\n",
       " '    0.233254 1.0000000',\n",
       " '  H s',\n",
       " '    0.664673 1.0000000',\n",
       " '  H p',\n",
       " '    0.284469 1.0000000',\n",
       " '  H p',\n",
       " '    0.847159 1.0000000',\n",
       " '  H p',\n",
       " '    2.522868 1.0000000',\n",
       " '  H d',\n",
       " '    0.665279 1.0000000',\n",
       " '  H d',\n",
       " '    2.048739 1.0000000',\n",
       " '  H f',\n",
       " '    1.421460 1.0000000',\n",
       " '  ------------------------------------',\n",
       " '  **basis set for atom index 3: H**',\n",
       " '  ------------------------------------',\n",
       " '  H s',\n",
       " '    23.843185 0.0041149',\n",
       " '    10.212443 0.0104644',\n",
       " '    4.374164 0.0280111',\n",
       " '    1.873529 0.0758862',\n",
       " '    0.802465 0.1821062',\n",
       " '    0.343709 0.3485214',\n",
       " '    0.147217 0.3782313',\n",
       " '    0.063055 0.1164241',\n",
       " '  H s',\n",
       " '    0.081856 1.0000000',\n",
       " '  H s',\n",
       " '    0.233254 1.0000000',\n",
       " '  H s',\n",
       " '    0.664673 1.0000000',\n",
       " '  H p',\n",
       " '    0.284469 1.0000000',\n",
       " '  H p',\n",
       " '    0.847159 1.0000000',\n",
       " '  H p',\n",
       " '    2.522868 1.0000000',\n",
       " '  H d',\n",
       " '    0.665279 1.0000000',\n",
       " '  H d',\n",
       " '    2.048739 1.0000000',\n",
       " '  H f',\n",
       " '    1.421460 1.0000000']"
      ]
     },
     "execution_count": 6,
     "metadata": {},
     "output_type": "execute_result"
    }
   ],
   "source": [
    "mos_data_up.get_info()"
   ]
  },
  {
   "cell_type": "code",
   "execution_count": 7,
   "metadata": {},
   "outputs": [
    {
     "data": {
      "text/plain": [
       "['**MOs_data',\n",
       " '  Number of MOs = 4',\n",
       " '  dim. of MOs coeff = (4, 114)',\n",
       " '**AOs_sphe_data',\n",
       " '  Number of AOs = 114',\n",
       " '  Number of primitive AOs = 160',\n",
       " '  Angular part is the real spherical (solid) Harmonics.',\n",
       " '  ------------------------------------',\n",
       " '  **basis set for atom index 1: O**',\n",
       " '  ------------------------------------',\n",
       " '  O s',\n",
       " '    54.775216 -0.0012444',\n",
       " '    25.616801 0.0107330',\n",
       " '    11.980245 0.0018889',\n",
       " '    6.992317 -0.1742537',\n",
       " '    2.620277 0.0017622',\n",
       " '    1.225429 0.3161846',\n",
       " '    0.577797 0.4512023',\n",
       " '    0.268022 0.3121534',\n",
       " '    0.125346 0.0511167',\n",
       " '  O s',\n",
       " '    1.351771 1.0000000',\n",
       " '  O s',\n",
       " '    0.843157 1.0000000',\n",
       " '  O s',\n",
       " '    0.224380 1.0000000',\n",
       " '  O p',\n",
       " '    22.217266 0.0104866',\n",
       " '    10.747550 0.0366435',\n",
       " '    5.315785 0.0803674',\n",
       " '    2.660761 0.1627010',\n",
       " '    1.331816 0.2377791',\n",
       " '    0.678626 0.2811422',\n",
       " '    0.333673 0.2643189',\n",
       " '    0.167017 0.1466014',\n",
       " '    0.083598 0.0458145',\n",
       " '  O p',\n",
       " '    1.106737 1.0000000',\n",
       " '  O p',\n",
       " '    0.452364 1.0000000',\n",
       " '  O p',\n",
       " '    0.148562 1.0000000',\n",
       " '  O d',\n",
       " '    4.008867 1.0000000',\n",
       " '  O d',\n",
       " '    1.344331 1.0000000',\n",
       " '  O d',\n",
       " '    0.455711 1.0000000',\n",
       " '  O f',\n",
       " '    2.763115 1.0000000',\n",
       " '  O f',\n",
       " '    0.876289 1.0000000',\n",
       " '  O g',\n",
       " '    1.759081 1.0000000',\n",
       " '  ------------------------------------',\n",
       " '  **basis set for atom index 2: H**',\n",
       " '  ------------------------------------',\n",
       " '  H s',\n",
       " '    23.843185 0.0041149',\n",
       " '    10.212443 0.0104644',\n",
       " '    4.374164 0.0280111',\n",
       " '    1.873529 0.0758862',\n",
       " '    0.802465 0.1821062',\n",
       " '    0.343709 0.3485214',\n",
       " '    0.147217 0.3782313',\n",
       " '    0.063055 0.1164241',\n",
       " '  H s',\n",
       " '    0.081856 1.0000000',\n",
       " '  H s',\n",
       " '    0.233254 1.0000000',\n",
       " '  H s',\n",
       " '    0.664673 1.0000000',\n",
       " '  H p',\n",
       " '    0.284469 1.0000000',\n",
       " '  H p',\n",
       " '    0.847159 1.0000000',\n",
       " '  H p',\n",
       " '    2.522868 1.0000000',\n",
       " '  H d',\n",
       " '    0.665279 1.0000000',\n",
       " '  H d',\n",
       " '    2.048739 1.0000000',\n",
       " '  H f',\n",
       " '    1.421460 1.0000000',\n",
       " '  ------------------------------------',\n",
       " '  **basis set for atom index 3: H**',\n",
       " '  ------------------------------------',\n",
       " '  H s',\n",
       " '    23.843185 0.0041149',\n",
       " '    10.212443 0.0104644',\n",
       " '    4.374164 0.0280111',\n",
       " '    1.873529 0.0758862',\n",
       " '    0.802465 0.1821062',\n",
       " '    0.343709 0.3485214',\n",
       " '    0.147217 0.3782313',\n",
       " '    0.063055 0.1164241',\n",
       " '  H s',\n",
       " '    0.081856 1.0000000',\n",
       " '  H s',\n",
       " '    0.233254 1.0000000',\n",
       " '  H s',\n",
       " '    0.664673 1.0000000',\n",
       " '  H p',\n",
       " '    0.284469 1.0000000',\n",
       " '  H p',\n",
       " '    0.847159 1.0000000',\n",
       " '  H p',\n",
       " '    2.522868 1.0000000',\n",
       " '  H d',\n",
       " '    0.665279 1.0000000',\n",
       " '  H d',\n",
       " '    2.048739 1.0000000',\n",
       " '  H f',\n",
       " '    1.421460 1.0000000']"
      ]
     },
     "execution_count": 7,
     "metadata": {},
     "output_type": "execute_result"
    }
   ],
   "source": [
    "mos_data_dn.get_info()"
   ]
  },
  {
   "cell_type": "code",
   "execution_count": 8,
   "metadata": {},
   "outputs": [
    {
     "data": {
      "text/plain": [
       "['**Coulomb_potential_data', '  ecp_flag = True']"
      ]
     },
     "execution_count": 8,
     "metadata": {},
     "output_type": "execute_result"
    }
   ],
   "source": [
    "coulomb_potential_data.get_info()"
   ]
  },
  {
   "cell_type": "code",
   "execution_count": 9,
   "metadata": {},
   "outputs": [],
   "source": [
    "num_ele_up = 5\n",
    "num_ele_dn = 3\n",
    "r_up_carts = np.random.rand(num_ele_up, 3)\n",
    "r_dn_carts = np.random.rand(num_ele_dn, 3)"
   ]
  },
  {
   "cell_type": "markdown",
   "metadata": {},
   "source": [
    "# compute_AOs_jax\n",
    "```\n",
    "def compute_AOs_jax(aos_data: AOs_sphe_data | AOs_cart_data, r_carts: jnpt.ArrayLike) -> jax.Array:\n",
    "    \"\"\"Compute AO values at the given r_carts.\n",
    "\n",
    "    The method is for computing the value of the given atomic orbital at r_carts\n",
    "\n",
    "    Args:\n",
    "        ao_datas (AOs_data): an instance of AOs_data\n",
    "        r_carts (jnpt.ArrayLike): Cartesian coordinates of electrons (dim: N_e, 3)\n",
    "\n",
    "    Returns:\n",
    "        jax.Array: Arrays containing values of the AOs at r_carts. (dim: num_ao, N_e)\n",
    "    \"\"\"\n",
    "```"
   ]
  },
  {
   "cell_type": "code",
   "execution_count": 10,
   "metadata": {},
   "outputs": [
    {
     "data": {
      "text/plain": [
       "(114, 5)"
      ]
     },
     "execution_count": 10,
     "metadata": {},
     "output_type": "execute_result"
    }
   ],
   "source": [
    "ao_up_values = compute_AOs_jax(aos_data=aos_data, r_carts = r_up_carts)\n",
    "ao_up_values.shape"
   ]
  },
  {
   "cell_type": "code",
   "execution_count": 11,
   "metadata": {},
   "outputs": [
    {
     "data": {
      "text/plain": [
       "(114, 3)"
      ]
     },
     "execution_count": 11,
     "metadata": {},
     "output_type": "execute_result"
    }
   ],
   "source": [
    "ao_dn_values = compute_AOs_jax(aos_data=aos_data, r_carts = r_dn_carts)\n",
    "ao_dn_values.shape"
   ]
  },
  {
   "cell_type": "markdown",
   "metadata": {},
   "source": [
    "# compute_MOs_jax\n",
    "```\n",
    "def compute_MOs_jax(mos_data: MOs_data, r_carts: jnpt.ArrayLike) -> jax.Array:\n",
    "    \"\"\"The class contains information for computing molecular orbitals at r_carts simlunateously.\n",
    "\n",
    "    Args:\n",
    "        mos_data (MOs_data): an instance of MOs_data\n",
    "        r_carts (jnpt.ArrayLike): Cartesian coordinates of electrons (dim: N_e, 3)\n",
    "\n",
    "    Returns:\n",
    "        Arrays containing values of the MOs at r_carts. (dim: num_mo, N_e)\n",
    "    \"\"\"\n",
    "```"
   ]
  },
  {
   "cell_type": "code",
   "execution_count": 12,
   "metadata": {},
   "outputs": [
    {
     "data": {
      "text/plain": [
       "(4, 5)"
      ]
     },
     "execution_count": 12,
     "metadata": {},
     "output_type": "execute_result"
    }
   ],
   "source": [
    "mo_up_values = compute_MOs_jax(mos_data=mos_data_up, r_carts = r_up_carts)\n",
    "mo_up_values.shape"
   ]
  },
  {
   "cell_type": "code",
   "execution_count": 13,
   "metadata": {
    "scrolled": true
   },
   "outputs": [
    {
     "data": {
      "text/plain": [
       "(4, 3)"
      ]
     },
     "execution_count": 13,
     "metadata": {},
     "output_type": "execute_result"
    }
   ],
   "source": [
    "mo_dn_values = compute_MOs_jax(mos_data=mos_data_dn, r_carts = r_dn_carts)\n",
    "mo_dn_values.shape"
   ]
  },
  {
   "cell_type": "markdown",
   "metadata": {},
   "source": [
    "# compute V_bare (ion-ion)\n",
    "```\n",
    "@jit\n",
    "def compute_bare_coulomb_potential_ion_ion_jax(\n",
    "    coulomb_potential_data: Coulomb_potential_data,\n",
    ") -> float:\n",
    "```"
   ]
  },
  {
   "cell_type": "code",
   "execution_count": 14,
   "metadata": {},
   "outputs": [],
   "source": [
    "V_ii = compute_bare_coulomb_potential_ion_ion_jax(coulomb_potential_data=coulomb_potential_data)"
   ]
  },
  {
   "cell_type": "markdown",
   "metadata": {},
   "source": [
    "# compute V_bare (ele-ele)\n",
    "```\n",
    "@jit\n",
    "def compute_bare_coulomb_potential_el_el_jax(\n",
    "    r_up_carts: jnpt.ArrayLike,\n",
    "    r_dn_carts: jnpt.ArrayLike,\n",
    ") -> float:\n",
    "```"
   ]
  },
  {
   "cell_type": "code",
   "execution_count": 15,
   "metadata": {},
   "outputs": [],
   "source": [
    "V_ee = compute_bare_coulomb_potential_el_el_jax(r_up_carts=r_up_carts, r_dn_carts=r_dn_carts)"
   ]
  },
  {
   "cell_type": "markdown",
   "metadata": {},
   "source": [
    "# compute V_bare (ele-ion)\n",
    "```\n",
    "@jit\n",
    "def compute_bare_coulomb_potential_el_ion_jax(\n",
    "    coulomb_potential_data: Coulomb_potential_data,\n",
    "    r_up_carts: jnpt.ArrayLike,\n",
    "    r_dn_carts: jnpt.ArrayLike,\n",
    ") -> float:\n",
    "    \"\"\"See compute_bare_coulomb_potential_api.\"\"\"\n",
    "```"
   ]
  },
  {
   "cell_type": "code",
   "execution_count": 16,
   "metadata": {},
   "outputs": [],
   "source": [
    "V_ei = compute_bare_coulomb_potential_el_ion_jax(coulomb_potential_data=coulomb_potential_data, r_up_carts=r_up_carts, r_dn_carts=r_dn_carts)"
   ]
  },
  {
   "cell_type": "markdown",
   "metadata": {},
   "source": [
    "# compute V_ecp_local_part\n",
    "@jit\n",
    "def compute_ecp_local_parts_all_pairs_jax(\n",
    "    coulomb_potential_data: Coulomb_potential_data,\n",
    "    r_up_carts: jnpt.ArrayLike,\n",
    "    r_dn_carts: jnpt.ArrayLike,\n",
    ") -> float:\n",
    "    \"\"\"Compute ecp local parts, considering all nucleus-electron pairs.\n",
    "\n",
    "    The method is for computing the local part of the given ECPs at (r_up_carts, r_dn_carts).\n",
    "    A much faster implementation using JAX.\n",
    "\n",
    "    Args:\n",
    "        coulomb_potential_data (Coulomb_potential_data): an instance of Coulomb_potential_data\n",
    "        r_up_carts (jnpt.ArrayLike): Cartesian coordinates of up-spin electrons (dim: N_e^{up}, 3)\n",
    "        r_dn_carts (jnpt.ArrayLike): Cartesian coordinates of dn-spin electrons (dim: N_e^{dn}, 3)\n",
    "\n",
    "    Returns:\n",
    "        float: The sum of local part of the given ECPs with r_up_carts and r_dn_carts.\n",
    "    \"\"\""
   ]
  },
  {
   "cell_type": "code",
   "execution_count": 17,
   "metadata": {},
   "outputs": [],
   "source": [
    "V_local = compute_ecp_local_parts_all_pairs_jax(coulomb_potential_data=coulomb_potential_data, r_up_carts=r_up_carts, r_dn_carts=r_dn_carts)"
   ]
  },
  {
   "cell_type": "code",
   "execution_count": 26,
   "metadata": {},
   "outputs": [
    {
     "data": {
      "text/plain": [
       "Array(-1.11611389, dtype=float64)"
      ]
     },
     "execution_count": 26,
     "metadata": {},
     "output_type": "execute_result"
    }
   ],
   "source": [
    "V_local"
   ]
  },
  {
   "cell_type": "markdown",
   "metadata": {},
   "source": [
    "# compute V_ecp_non_local_part (if you need all neighbors)\n",
    "@partial(jit, static_argnums=(4))\n",
    "def compute_ecp_non_local_parts_all_pairs_jax(\n",
    "    coulomb_potential_data: Coulomb_potential_data,\n",
    "    r_up_carts: jnpt.ArrayLike,\n",
    "    r_dn_carts: jnpt.ArrayLike,\n",
    "    RT: jnpt.ArrayLike,\n",
    "    Nv: int = Nv_default,\n",
    ") -> tuple[list, list, list]:\n",
    "    \"\"\"Compute ecp non-local parts using JAX, considering all nucleus-electron pairs.\n",
    "\n",
    "    The method is for computing the non-local part of the given ECPs at (r_up_carts, r_dn_carts).\n",
    "\n",
    "    Args:\n",
    "        coulomb_potential_data (Coulomb_potential_data): an instance of Coulomb_potential_data\n",
    "        r_up_carts (jnpt.ArrayLike): Cartesian coordinates of up-spin electrons (dim: N_e^{up}, 3)\n",
    "        r_dn_carts (jnpt.ArrayLike): Cartesian coordinates of dn-spin electrons (dim: N_e^{dn}, 3)\n",
    "        RT (jnpt.ArrayLike): Rotation matrix. equiv R.T\n",
    "        Nv (int): The number of quadrature points for the spherical part.\n",
    "\n",
    "    Returns:\n",
    "        list[jax.Array]: The list of grids for up electrons on which the non-local part is computed.\n",
    "        list[jax.Array]: The list of grids for dn electrons on which the non-local part is computed.\n",
    "        list[float]: The list of non-local part of the given ECPs with r_up_carts and r_dn_carts.\n",
    "    \"\"\""
   ]
  },
  {
   "cell_type": "code",
   "execution_count": 18,
   "metadata": {},
   "outputs": [],
   "source": [
    "mesh_non_local_ecp_part_r_up_carts, mesh_non_local_ecp_part_r_dn_carts, V_nonlocal = compute_ecp_non_local_parts_all_pairs_jax(coulomb_potential_data = coulomb_potential_data, r_up_carts = r_up_carts, r_dn_carts = r_dn_carts, RT = np.eye(3), Nv = 6,) "
   ]
  },
  {
   "cell_type": "code",
   "execution_count": 19,
   "metadata": {},
   "outputs": [
    {
     "data": {
      "text/plain": [
       "(144, 5, 3)"
      ]
     },
     "execution_count": 19,
     "metadata": {},
     "output_type": "execute_result"
    }
   ],
   "source": [
    "mesh_non_local_ecp_part_r_up_carts.shape"
   ]
  },
  {
   "cell_type": "code",
   "execution_count": 20,
   "metadata": {},
   "outputs": [
    {
     "data": {
      "text/plain": [
       "(144, 3, 3)"
      ]
     },
     "execution_count": 20,
     "metadata": {},
     "output_type": "execute_result"
    }
   ],
   "source": [
    "mesh_non_local_ecp_part_r_dn_carts.shape"
   ]
  },
  {
   "cell_type": "code",
   "execution_count": 21,
   "metadata": {},
   "outputs": [
    {
     "data": {
      "text/plain": [
       "(144,)"
      ]
     },
     "execution_count": 21,
     "metadata": {},
     "output_type": "execute_result"
    }
   ],
   "source": [
    "V_nonlocal.shape"
   ]
  },
  {
   "cell_type": "markdown",
   "metadata": {},
   "source": [
    "# compute V_ecp_non_local_part (if you need only several nearest neighbors: NN)\n",
    "@partial(jit, static_argnums=(4,5))\n",
    "def compute_ecp_non_local_parts_nearest_neighbors_jax(\n",
    "    coulomb_potential_data: Coulomb_potential_data,\n",
    "    r_up_carts: jnpt.ArrayLike,\n",
    "    r_dn_carts: jnpt.ArrayLike,\n",
    "    RT: jnpt.ArrayLike,\n",
    "    NN: int = NN_default,\n",
    "    Nv: int = Nv_default,\n",
    ") -> tuple[list, list, list]:\n",
    "    \"\"\"Compute ecp non-local parts.\n",
    "\n",
    "    The method is for computing the non-local part of the given ECPs at (r_up_carts, r_dn_carts)\n",
    "    with a cutoff considering only up to NN-th nearest neighbors.\n",
    "\n",
    "    Args:\n",
    "        coulomb_potential_data (Coulomb_potential_data): an instance of Coulomb_potential_data\n",
    "        wavefunction_data (Wavefunction_data): an instance of Wavefunction_data\n",
    "        r_up_carts (jnpt.ArrayLike): Cartesian coordinates of up-spin electrons (dim: N_e^{up}, 3)\n",
    "        r_dn_carts (jnpt.ArrayLike): Cartesian coordinates of dn-spin electrons (dim: N_e^{dn}, 3)\n",
    "        RT (jnpt.ArrayLike): Rotation matrix. equiv R.T\n",
    "        NN (int): Consider only up to N-th nearest neighbors.\n",
    "        Nv (int): The number of quadrature points for the spherical part.\n",
    "        flag_determinant_only (bool): If True, only the determinant part is considered for the non-local ECP part.\n",
    "\n",
    "    Returns:\n",
    "        list[jax.Array]: The list of grids for up electrons on which the non-local part is computed.\n",
    "        list[jax.Array]: The list of grids for dn electrons on which the non-local part is computed.\n",
    "        list[float]: The list of non-local part of the given ECPs with r_up_carts and r_dn_carts.\n",
    "    \"\"\""
   ]
  },
  {
   "cell_type": "code",
   "execution_count": 22,
   "metadata": {},
   "outputs": [],
   "source": [
    "mesh_non_local_ecp_part_r_up_carts, mesh_non_local_ecp_part_r_dn_carts, V_nonlocal = compute_ecp_non_local_parts_nearest_neighbors_jax(coulomb_potential_data = coulomb_potential_data, r_up_carts = r_up_carts, r_dn_carts = r_dn_carts, RT = np.eye(3), Nv = 6, NN = 1) "
   ]
  },
  {
   "cell_type": "code",
   "execution_count": 23,
   "metadata": {},
   "outputs": [
    {
     "data": {
      "text/plain": [
       "(48, 5, 3)"
      ]
     },
     "execution_count": 23,
     "metadata": {},
     "output_type": "execute_result"
    }
   ],
   "source": [
    "mesh_non_local_ecp_part_r_up_carts.shape"
   ]
  },
  {
   "cell_type": "code",
   "execution_count": 24,
   "metadata": {},
   "outputs": [
    {
     "data": {
      "text/plain": [
       "(48, 3, 3)"
      ]
     },
     "execution_count": 24,
     "metadata": {},
     "output_type": "execute_result"
    }
   ],
   "source": [
    "mesh_non_local_ecp_part_r_dn_carts.shape"
   ]
  },
  {
   "cell_type": "code",
   "execution_count": 25,
   "metadata": {},
   "outputs": [
    {
     "data": {
      "text/plain": [
       "(48,)"
      ]
     },
     "execution_count": 25,
     "metadata": {},
     "output_type": "execute_result"
    }
   ],
   "source": [
    "V_nonlocal.shape"
   ]
  }
 ],
 "metadata": {
  "kernelspec": {
   "display_name": "Python 3 (ipykernel)",
   "language": "python",
   "name": "python3"
  },
  "language_info": {
   "codemirror_mode": {
    "name": "ipython",
    "version": 3
   },
   "file_extension": ".py",
   "mimetype": "text/x-python",
   "name": "python",
   "nbconvert_exporter": "python",
   "pygments_lexer": "ipython3",
   "version": "3.11.0"
  }
 },
 "nbformat": 4,
 "nbformat_minor": 4
}
